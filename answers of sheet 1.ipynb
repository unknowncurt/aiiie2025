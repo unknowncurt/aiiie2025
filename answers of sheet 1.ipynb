{
  "nbformat": 4,
  "nbformat_minor": 0,
  "metadata": {
    "colab": {
      "provenance": []
    },
    "kernelspec": {
      "name": "python3",
      "display_name": "Python 3"
    },
    "language_info": {
      "name": "python"
    }
  },
  "cells": [
    {
      "cell_type": "markdown",
      "metadata": {
        "id": "9Dj8pYHCHUMI"
      },
      "source": [
        "##Knowlwdge Check - 1\n"
      ]
    },
    {
      "cell_type": "markdown",
      "metadata": {
        "id": "hIzo8lkOm03D"
      },
      "source": [
        "### Printing output"
      ]
    },
    {
      "cell_type": "markdown",
      "metadata": {
        "id": "7AKKps5JXjPH"
      },
      "source": [
        "1 - Using print(), print your name and city following the format:\n",
        "\n",
        "        Name : Angela\n",
        "        City : New York\n"
      ]
    },
    {
      "cell_type": "code",
      "metadata": {
        "id": "ixFUad4Mm0Ei"
      },
      "source": [
        "print (\"Name : Angela\")\n",
        "print (\"City : New York\")"
      ],
      "execution_count": null,
      "outputs": []
    },
    {
      "cell_type": "markdown",
      "metadata": {
        "id": "2vonbXOxXpQH"
      },
      "source": [
        "2 - Print the message below\n",
        "\n",
        "     Emergency Alert\n",
        "     NEWS : FLASH FLOOD WARNING this area till 7:00 PM"
      ]
    },
    {
      "cell_type": "code",
      "metadata": {
        "id": "D4Iacgy_m61W"
      },
      "source": [
        "\n",
        "print( 'Emergency Alert \\n NEWS : FLASH FLOOD WARNING this area till 7:00 PM')"
      ],
      "execution_count": null,
      "outputs": []
    },
    {
      "cell_type": "markdown",
      "metadata": {
        "id": "lRuqg-hamQGT"
      },
      "source": [
        "### Arithmetic Operators and Variables"
      ]
    },
    {
      "cell_type": "markdown",
      "metadata": {
        "id": "j1-O0lZgX3K1"
      },
      "source": [
        "3 - Take a number and divide it by 2, then take the output and divide it by 2, and again divide by 2. Use variables.\n",
        "\n",
        "\n",
        "    Example\n",
        "    input : 2000\n",
        "    output is: 1000 500 250\n",
        "\n"
      ]
    },
    {
      "cell_type": "code",
      "metadata": {
        "id": "3zsVDZcyl2l0",
        "colab": {
          "base_uri": "https://localhost:8080/"
        },
        "outputId": "499ca53b-ad45-4f75-95f2-d5eba5f814ff"
      },
      "source": [
        "user_number = int (input(\"please enter your number\"))\n",
        "n = user_number/2\n",
        "print(n)\n",
        "x = n / 2\n",
        "print(int(x))\n",
        "y = x / 2\n",
        "print(int(y))\n",
        "\n"
      ],
      "execution_count": 16,
      "outputs": [
        {
          "output_type": "stream",
          "name": "stdout",
          "text": [
            "please enter your number2000\n",
            "1000.0\n",
            "500\n",
            "250\n"
          ]
        }
      ]
    },
    {
      "cell_type": "markdown",
      "metadata": {
        "id": "deaFrnkLYGhJ"
      },
      "source": [
        "4 - Given three number x, y, and z,\n",
        "\n",
        "\n",
        "       Output: x to the power of z,\n",
        "               x to the power of y,\n",
        "               x minus y,\n",
        "               remainder value when x is divided by z"
      ]
    },
    {
      "cell_type": "code",
      "metadata": {
        "id": "4SZRBko7mvc-",
        "colab": {
          "base_uri": "https://localhost:8080/"
        },
        "outputId": "0a5711d5-45f8-4786-87f9-27e34ba092d0"
      },
      "source": [
        "x =1\n",
        "z = 2\n",
        "y = 3\n",
        "print(x**z) # we use ** to do the power\n",
        "print(x**y) # we use ** to do the power\n",
        "print(x-y) # we use - to substract\n",
        "print(x%z) # we use % to do remainders\n"
      ],
      "execution_count": 18,
      "outputs": [
        {
          "output_type": "stream",
          "name": "stdout",
          "text": [
            "1\n",
            "1\n",
            "-2\n",
            "1\n"
          ]
        }
      ]
    },
    {
      "cell_type": "markdown",
      "metadata": {
        "id": "GE9xk6_TYcYN"
      },
      "source": [
        "5 - Add\n",
        "\n",
        "        4 quarters (0.25),  3 dimes (0.10), 2 nickels (0.5) and 1 cent\n",
        "        Output:  the total amount as dollars and cents."
      ]
    },
    {
      "cell_type": "code",
      "metadata": {
        "id": "UXZC9qSQsX9_",
        "colab": {
          "base_uri": "https://localhost:8080/"
        },
        "outputId": "fa832cb7-6103-47fd-ecd8-a5cd708e89be"
      },
      "source": [
        "total = 4 * 0.25 + 3* 0.10 + 2* 0.05 + 0.01 # wrote down simply\n",
        "print(total) # prints total"
      ],
      "execution_count": 19,
      "outputs": [
        {
          "output_type": "stream",
          "name": "stdout",
          "text": [
            "1.4100000000000001\n"
          ]
        }
      ]
    },
    {
      "cell_type": "markdown",
      "metadata": {
        "id": "O618MLtRtynL"
      },
      "source": [
        "### Strings"
      ]
    },
    {
      "cell_type": "markdown",
      "metadata": {
        "id": "iXtnKBx8Ywy_"
      },
      "source": [
        "6 - Given the string **Python**, with the help of slicing, get **o**."
      ]
    },
    {
      "cell_type": "code",
      "metadata": {
        "id": "EOD6mIiTtOzx"
      },
      "source": [
        "string = \"Python\" # we name a string 'string' and we name its value python\n",
        "print(string[5]) # from fifth index we print it\n"
      ],
      "execution_count": null,
      "outputs": []
    },
    {
      "cell_type": "markdown",
      "metadata": {
        "id": "mgnqbERkY3-J"
      },
      "source": [
        "7 - Given the string **Python**, with the help of slicing get,  **tho**."
      ]
    },
    {
      "cell_type": "code",
      "metadata": {
        "id": "7R58ftspuJK3",
        "colab": {
          "base_uri": "https://localhost:8080/"
        },
        "outputId": "47dcfe16-147c-44ad-fe0e-245d0e581a45"
      },
      "source": [
        "word = 'Python'\n",
        "print(word[2:5])\n",
        "  # simple slicing man\n"
      ],
      "execution_count": 21,
      "outputs": [
        {
          "output_type": "stream",
          "name": "stdout",
          "text": [
            "tho\n"
          ]
        }
      ]
    },
    {
      "cell_type": "markdown",
      "metadata": {
        "id": "U2g51swGY9Hf"
      },
      "source": [
        "8 - Given the string **Python Class**, with the help of slicing, get **Class**."
      ]
    },
    {
      "cell_type": "code",
      "metadata": {
        "id": "sOUYJA0FuN78",
        "colab": {
          "base_uri": "https://localhost:8080/"
        },
        "outputId": "884bcb01-be93-468c-b9ae-80b928e23649"
      },
      "source": [
        "string = \"Python Class\" # we name a string string and we name its value python class\n",
        "print(string[7:]) # from seventh index till the end we print it"
      ],
      "execution_count": 22,
      "outputs": [
        {
          "output_type": "stream",
          "name": "stdout",
          "text": [
            "Class\n"
          ]
        }
      ]
    },
    {
      "cell_type": "markdown",
      "metadata": {
        "id": "tLycBhPYZHsC"
      },
      "source": [
        "9 - Find the length of the String  **Welcome to Pace University**"
      ]
    },
    {
      "cell_type": "code",
      "metadata": {
        "id": "YIERKBvluUdA",
        "colab": {
          "base_uri": "https://localhost:8080/"
        },
        "outputId": "1354d909-6e49-45d0-d296-0c8e6bcd3f47"
      },
      "source": [
        "count = 0\n",
        "for i in \"Welcome to Pace University\" :\n",
        "  count += 1\n",
        "print(count)\n"
      ],
      "execution_count": 23,
      "outputs": [
        {
          "output_type": "stream",
          "name": "stdout",
          "text": [
            "26\n"
          ]
        }
      ]
    },
    {
      "cell_type": "markdown",
      "metadata": {
        "id": "l7SqRwF7ZNp8"
      },
      "source": [
        "10 - Split the String  **Welcome to Pace University**  into words"
      ]
    },
    {
      "cell_type": "code",
      "metadata": {
        "id": "1SBnxastueix",
        "colab": {
          "base_uri": "https://localhost:8080/"
        },
        "outputId": "f216dca3-305d-483d-cbfa-37b74d3b69cd"
      },
      "source": [
        "string = \"Welcome to Pace University\"\n",
        "print(string.split())\n",
        "\n"
      ],
      "execution_count": 24,
      "outputs": [
        {
          "output_type": "stream",
          "name": "stdout",
          "text": [
            "['Welcome', 'to', 'Pace', 'University']\n"
          ]
        }
      ]
    },
    {
      "cell_type": "markdown",
      "metadata": {
        "id": "YK8s1_BYZSyO"
      },
      "source": [
        "11 - Replace the letter  **i**  with  **o**  in  **Artificial intelligence**"
      ]
    },
    {
      "cell_type": "code",
      "metadata": {
        "id": "EDO4NXUUuoOm",
        "colab": {
          "base_uri": "https://localhost:8080/"
        },
        "outputId": "47350f3f-2155-4ba0-face-f96f8d0ebaa2"
      },
      "source": [
        "words = \"Artificial intelligence\"\n",
        "\n",
        "for letter in words :\n",
        "  if letter == \"i\" :\n",
        "    print(\"o\")         # we go letter by letter search for i\n",
        "                        # if it is i MAKE IT O\n",
        "  else :\n",
        "    print(letter)\n",
        "\n"
      ],
      "execution_count": 25,
      "outputs": [
        {
          "output_type": "stream",
          "name": "stdout",
          "text": [
            "A\n",
            "r\n",
            "t\n",
            "o\n",
            "f\n",
            "o\n",
            "c\n",
            "o\n",
            "a\n",
            "l\n",
            " \n",
            "o\n",
            "n\n",
            "t\n",
            "e\n",
            "l\n",
            "l\n",
            "o\n",
            "g\n",
            "e\n",
            "n\n",
            "c\n",
            "e\n"
          ]
        }
      ]
    },
    {
      "cell_type": "markdown",
      "metadata": {
        "id": "VLMrFwqhZeNz"
      },
      "source": [
        "12 - convert the text  **DATA Science**  into lower case ( as **data science**)"
      ]
    },
    {
      "cell_type": "code",
      "metadata": {
        "id": "T7NONPC-u94X",
        "colab": {
          "base_uri": "https://localhost:8080/"
        },
        "outputId": "8964550b-329a-41e5-964c-177fd349c24d"
      },
      "source": [
        "data = \"DATA science\"\n",
        "data = data.lower()\n",
        "print(data)\n"
      ],
      "execution_count": 26,
      "outputs": [
        {
          "output_type": "stream",
          "name": "stdout",
          "text": [
            "data science\n"
          ]
        }
      ]
    },
    {
      "cell_type": "markdown",
      "metadata": {
        "id": "4EHx_9ycZkwh"
      },
      "source": [
        "13 - convert the text  **DATA Science**  into UPPER case ( as **DATA SCIENCE**)"
      ]
    },
    {
      "cell_type": "code",
      "metadata": {
        "id": "Tg1-wbUPvUYI",
        "colab": {
          "base_uri": "https://localhost:8080/"
        },
        "outputId": "d80b3b25-6d02-4496-dbe7-f32142e952b6"
      },
      "source": [
        "thing = \"DATA Science\"\n",
        "print(thing.upper())"
      ],
      "execution_count": 27,
      "outputs": [
        {
          "output_type": "stream",
          "name": "stdout",
          "text": [
            "DATA SCIENCE\n"
          ]
        }
      ]
    },
    {
      "cell_type": "markdown",
      "metadata": {
        "id": "STL6BSOOZ44L"
      },
      "source": [
        "14 - reverse the given String  **Artificial intelligence**"
      ]
    },
    {
      "cell_type": "code",
      "metadata": {
        "id": "CJPPWcOgvdWN",
        "colab": {
          "base_uri": "https://localhost:8080/"
        },
        "outputId": "abddfdb9-ba82-4016-e241-1dfede13c5fb"
      },
      "source": [
        "\n",
        "\n",
        "AI = \"Artificial intelligence\" # name it\n",
        "AI = AI[::-1]    # i remember the \"::-1\" tricks\n",
        "print(AI)"
      ],
      "execution_count": 28,
      "outputs": [
        {
          "output_type": "stream",
          "name": "stdout",
          "text": [
            "ecnegilletni laicifitrA\n"
          ]
        }
      ]
    },
    {
      "cell_type": "markdown",
      "metadata": {
        "id": "TU_sm0SsoGXV"
      },
      "source": [
        "###Comparision Operators"
      ]
    },
    {
      "cell_type": "markdown",
      "metadata": {
        "id": "XJYziySoaAdz"
      },
      "source": [
        "15 - Compare two number a =150, b = 225 and print if they are:\n",
        "\n",
        "        equal,\n",
        "        greater,\n",
        "        greater than or equal to,\n",
        "        less,\n",
        "        less than or equal to,  \n",
        "        not equal\n",
        "       \n",
        "        example : a < b\n",
        "                  print(\"a is less than b\")"
      ]
    },
    {
      "cell_type": "code",
      "metadata": {
        "id": "4qFJzGo3wIsC",
        "colab": {
          "base_uri": "https://localhost:8080/"
        },
        "outputId": "f5921aa0-0f24-41c2-fba8-48ea32ae34a7"
      },
      "source": [
        "if 150 > 225:\n",
        "  print(\"150 is greater than 225\")     #all of it is simple if statments\n",
        "if 150 == 225:\n",
        "    print(\"150 and 225 are equal\")\n",
        "if 150 < 225:\n",
        "  print(\"150 is less than 225\")\n",
        "if 150 >= 225:\n",
        "    print(\"150 is greater than or equal to 225\")\n",
        "if 150 <= 225:\n",
        "    print(\"150 is less than or equal to 225\")\n",
        "\n",
        "\n",
        "\n",
        "\n",
        "\n"
      ],
      "execution_count": null,
      "outputs": [
        {
          "output_type": "stream",
          "name": "stdout",
          "text": [
            "150 and 225 are not equal\n",
            "150 is less than 225\n",
            "150 is not greater than or equal to 225\n",
            "150 is less than or equal to 225\n"
          ]
        }
      ]
    },
    {
      "cell_type": "markdown",
      "metadata": {
        "id": "8kbRYQGy3fsq"
      },
      "source": [
        "###Lists"
      ]
    },
    {
      "cell_type": "markdown",
      "metadata": {
        "id": "UeK6ZxU53cZF"
      },
      "source": [
        "16 - Create a **list** of **lists** of integers elements"
      ]
    },
    {
      "cell_type": "code",
      "metadata": {
        "id": "GdMdQwi33cB5"
      },
      "source": [
        "ListNum = [ [1,2,3],[1,3,3]]"
      ],
      "execution_count": 29,
      "outputs": []
    },
    {
      "cell_type": "markdown",
      "metadata": {
        "id": "pWriOAll3sCF"
      },
      "source": [
        "17 - Create a **list** of **lists** of Text elements"
      ]
    },
    {
      "cell_type": "code",
      "metadata": {
        "id": "eCXFxSi13rXa"
      },
      "source": [
        "ListLists = [['a','b'],\"okkk\",['d', 'f', 'd']]     #list of lists of strings texts"
      ],
      "execution_count": 31,
      "outputs": []
    },
    {
      "cell_type": "markdown",
      "metadata": {
        "id": "8zC2JP7i3ubU"
      },
      "source": []
    }
  ]
}